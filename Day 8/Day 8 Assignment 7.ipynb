{
 "cells": [
  {
   "cell_type": "markdown",
   "metadata": {},
   "source": [
    "## Question 1 - Fibonacci series using Decorators"
   ]
  },
  {
   "cell_type": "code",
   "execution_count": 1,
   "metadata": {},
   "outputs": [],
   "source": [
    "def smart_fibo(num):\n",
    "    def Fibonacci(n):\n",
    "        \n",
    "        if n<=0:\n",
    "            print(\"Incorrect input\")\n",
    "    \n",
    "        elif n==1:\n",
    "            return 0\n",
    "\n",
    "        elif n==2:\n",
    "            return 1\n",
    "        else:\n",
    "            \n",
    "            return Fibonacci(n-1)+Fibonacci(n-2)\n",
    "            return num(n)\n",
    "    return Fibonacci    "
   ]
  },
  {
   "cell_type": "code",
   "execution_count": 2,
   "metadata": {},
   "outputs": [],
   "source": [
    "@smart_fibo\n",
    "def fibo(n):\n",
    "    print(\"The number is\",n)\n",
    "    "
   ]
  },
  {
   "cell_type": "code",
   "execution_count": 3,
   "metadata": {},
   "outputs": [
    {
     "data": {
      "text/plain": [
       "21"
      ]
     },
     "execution_count": 3,
     "metadata": {},
     "output_type": "execute_result"
    }
   ],
   "source": [
    "fibo(9)\n"
   ]
  },
  {
   "cell_type": "markdown",
   "metadata": {},
   "source": [
    "## Question 2 - Exception Handling"
   ]
  },
  {
   "cell_type": "code",
   "execution_count": 4,
   "metadata": {},
   "outputs": [
    {
     "name": "stdout",
     "output_type": "stream",
     "text": [
      "sorry ,it is a read file so you cannot be able to write in the file\n"
     ]
    }
   ],
   "source": [
    "try:\n",
    "    file=open(\"text.txt\",\"r\")\n",
    "    file.write(\"hi\")\n",
    "    file.close()\n",
    "\n",
    "except :\n",
    "    print(\"sorry ,it is a read file so you cannot be able to write in the file\")"
   ]
  },
  {
   "cell_type": "code",
   "execution_count": null,
   "metadata": {},
   "outputs": [],
   "source": []
  }
 ],
 "metadata": {
  "kernelspec": {
   "display_name": "Python 3",
   "language": "python",
   "name": "python3"
  },
  "language_info": {
   "codemirror_mode": {
    "name": "ipython",
    "version": 3
   },
   "file_extension": ".py",
   "mimetype": "text/x-python",
   "name": "python",
   "nbconvert_exporter": "python",
   "pygments_lexer": "ipython3",
   "version": "3.7.6"
  }
 },
 "nbformat": 4,
 "nbformat_minor": 4
}
