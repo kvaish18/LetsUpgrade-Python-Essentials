{
 "cells": [
  {
   "cell_type": "markdown",
   "metadata": {},
   "source": [
    "## Question 1 - For this challenge, create a bank account class that has two attributes ownerName and Balance, two methods Deposit and Withdraw, As an added requirement, withdrawals may not exceed the available balance. Instantiate your class, make several deposits and withdrawals and test o make sure the account can't be withdrawn"
   ]
  },
  {
   "cell_type": "code",
   "execution_count": 1,
   "metadata": {},
   "outputs": [],
   "source": [
    "class Bank:\n",
    "\n",
    "    def __init__(self, name, balance=500):\n",
    "        self.name = name\n",
    "        self.balance = balance\n",
    "\n",
    "    #deposit method\n",
    "    def deposit(self, amount):\n",
    "        self.balance += amount\n",
    "\n",
    "    #withdraw method\n",
    "    def withdraw(self, amount):\n",
    "        if amount > self.balance:\n",
    "            print('insufficient funds, operation failed')\n",
    "            print(\"try again with amount less than\",self.balance)\n",
    "        else:\n",
    "            self.balance -= amount\n",
    "            \n",
    "    #show method\n",
    "    def show_balance(self):\n",
    "        #are accessor methods needed in Python?\n",
    "        return self.balance\n",
    "    \n",
    "    #main method\n",
    "    def main():\n",
    "        customer1 = Bank('Sathish')\n",
    "        print('Initial balance')\n",
    "\n",
    "        print(customer1.show_balance())\n",
    "        customer1.deposit(500)\n",
    "\n",
    "        print('\\nAfter deposit')\n",
    "        print(customer1.show_balance())\n",
    "\n",
    "        print('\\nAfter withdrawal')\n",
    "        customer1.withdraw(500)\n",
    "\n",
    "        print(customer1.show_balance())\n",
    "        \n",
    "        print('\\nAfter 2nd withdrawal')\n",
    "        customer1.withdraw(700)\n",
    "\n",
    "        print(customer1.show_balance())\n",
    "        \n",
    "        "
   ]
  },
  {
   "cell_type": "code",
   "execution_count": 2,
   "metadata": {},
   "outputs": [
    {
     "name": "stdout",
     "output_type": "stream",
     "text": [
      "Initial balance\n",
      "500\n",
      "\n",
      "After deposit\n",
      "1000\n",
      "\n",
      "After withdrawal\n",
      "500\n",
      "\n",
      "After 2nd withdrawal\n",
      "insufficient funds, operation failed\n",
      "try again with amount less than 500\n",
      "500\n"
     ]
    }
   ],
   "source": [
    "Bank.main()"
   ]
  },
  {
   "cell_type": "markdown",
   "metadata": {},
   "source": [
    "## Question 2 - For this, create a cone class having attributes radius, height and two methods area and volume. Make only one classwith functions, as in where required import Math."
   ]
  },
  {
   "cell_type": "code",
   "execution_count": 3,
   "metadata": {},
   "outputs": [],
   "source": [
    "import math\n",
    "class Cone :\n",
    "    \n",
    "    def __init__(self, radius, height):\n",
    "        self.radius = radius\n",
    "        self.height = height\n",
    "        \n",
    "    def Area(self):\n",
    "        l = math.sqrt(self.radius * self.radius + self.height * self.height)  #slant height\n",
    "        SA = math.pi * self.radius * (self.radius + l)\n",
    "        return SA\n",
    "    \n",
    "    def Volume(self):\n",
    "        Volume = (1.0/3) * math.pi * self.radius * self.radius * self.height\n",
    "        return Volume\n",
    "    \n",
    "    def main():\n",
    "        cone1 = Cone(5,12)\n",
    "        print('Area of Cone =',cone1.Area())\n",
    "        print('Volume of Cone =',cone1.Volume())"
   ]
  },
  {
   "cell_type": "code",
   "execution_count": 4,
   "metadata": {},
   "outputs": [
    {
     "name": "stdout",
     "output_type": "stream",
     "text": [
      "Area of Cone = 282.7433388230814\n",
      "Volume of Cone = 314.15926535897927\n"
     ]
    }
   ],
   "source": [
    "Cone.main()"
   ]
  },
  {
   "cell_type": "code",
   "execution_count": null,
   "metadata": {},
   "outputs": [],
   "source": []
  }
 ],
 "metadata": {
  "kernelspec": {
   "display_name": "Python 3",
   "language": "python",
   "name": "python3"
  },
  "language_info": {
   "codemirror_mode": {
    "name": "ipython",
    "version": 3
   },
   "file_extension": ".py",
   "mimetype": "text/x-python",
   "name": "python",
   "nbconvert_exporter": "python",
   "pygments_lexer": "ipython3",
   "version": "3.7.6"
  }
 },
 "nbformat": 4,
 "nbformat_minor": 4
}
