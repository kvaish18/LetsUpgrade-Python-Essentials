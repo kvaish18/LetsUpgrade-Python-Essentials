{
 "cells": [
  {
   "cell_type": "markdown",
   "metadata": {},
   "source": [
    "## Assignment 1\n",
    "\n",
    "### Questions 1 - List and its default fuctions\n",
    "##### 1) append() : Used for appending and adding elements to List.It is used to add elements to the last position of List"
   ]
  },
  {
   "cell_type": "code",
   "execution_count": 1,
   "metadata": {},
   "outputs": [],
   "source": [
    "List = ['Mathematics', 'chemistry', 1997, 2000] "
   ]
  },
  {
   "cell_type": "code",
   "execution_count": 2,
   "metadata": {},
   "outputs": [
    {
     "name": "stdout",
     "output_type": "stream",
     "text": [
      "['Mathematics', 'chemistry', 1997, 2000, 20544]\n"
     ]
    }
   ],
   "source": [
    "List.append(20544) \n",
    "print(List) "
   ]
  },
  {
   "cell_type": "markdown",
   "metadata": {},
   "source": [
    "##### 2) extend(): Adds contents to List2 to the end of List1"
   ]
  },
  {
   "cell_type": "code",
   "execution_count": 3,
   "metadata": {},
   "outputs": [],
   "source": [
    "List1 = [1, 2, 3] \n",
    "List2 = [2, 3, 4, 5] "
   ]
  },
  {
   "cell_type": "code",
   "execution_count": 4,
   "metadata": {},
   "outputs": [
    {
     "name": "stdout",
     "output_type": "stream",
     "text": [
      "[1, 2, 3, 2, 3, 4, 5]\n"
     ]
    }
   ],
   "source": [
    "List1.extend(List2)         \n",
    "print(List1) "
   ]
  },
  {
   "cell_type": "code",
   "execution_count": 5,
   "metadata": {},
   "outputs": [
    {
     "name": "stdout",
     "output_type": "stream",
     "text": [
      "[2, 3, 4, 5, 1, 2, 3, 2, 3, 4, 5]\n"
     ]
    }
   ],
   "source": [
    "List2.extend(List1)  \n",
    "print(List2) "
   ]
  },
  {
   "cell_type": "markdown",
   "metadata": {},
   "source": [
    "##### 3) sum() : Calculates sum of all the elements of List"
   ]
  },
  {
   "cell_type": "code",
   "execution_count": 6,
   "metadata": {},
   "outputs": [],
   "source": [
    "List = [1, 2, 3, 4, 5] "
   ]
  },
  {
   "cell_type": "code",
   "execution_count": 7,
   "metadata": {},
   "outputs": [
    {
     "name": "stdout",
     "output_type": "stream",
     "text": [
      "15\n"
     ]
    }
   ],
   "source": [
    "print(sum(List)) "
   ]
  },
  {
   "cell_type": "markdown",
   "metadata": {},
   "source": [
    "##### 4) count():Calculates total occurrence of given element of List"
   ]
  },
  {
   "cell_type": "code",
   "execution_count": 8,
   "metadata": {},
   "outputs": [],
   "source": [
    "List = [1, 2, 3, 1, 2, 1, 2, 3, 2, 1] "
   ]
  },
  {
   "cell_type": "code",
   "execution_count": 9,
   "metadata": {},
   "outputs": [
    {
     "name": "stdout",
     "output_type": "stream",
     "text": [
      "4\n"
     ]
    }
   ],
   "source": [
    "print(List.count(1)) "
   ]
  },
  {
   "cell_type": "markdown",
   "metadata": {},
   "source": [
    "##### 5) insert(): Inserts an elements at specified position"
   ]
  },
  {
   "cell_type": "code",
   "execution_count": 10,
   "metadata": {},
   "outputs": [],
   "source": [
    "List = ['Mathematics', 'chemistry', 1997, 2000]"
   ]
  },
  {
   "cell_type": "code",
   "execution_count": 11,
   "metadata": {},
   "outputs": [
    {
     "name": "stdout",
     "output_type": "stream",
     "text": [
      "['Mathematics', 'chemistry', 10087, 1997, 2000]\n"
     ]
    }
   ],
   "source": [
    "List.insert(2,10087)      \n",
    "print(List)  "
   ]
  },
  {
   "cell_type": "markdown",
   "metadata": {},
   "source": [
    "### Questions 2 - Dictionary and its default functions"
   ]
  },
  {
   "cell_type": "markdown",
   "metadata": {},
   "source": [
    "##### 1) setdefault() method : returns the value of a key (if the key is in dictionary). If not, it inserts key with a value to the dictionary."
   ]
  },
  {
   "cell_type": "code",
   "execution_count": 12,
   "metadata": {},
   "outputs": [],
   "source": [
    "Dictionary1 = { 'A': 'Geeks', 'B': 'For', 'C': 'Geeks'} "
   ]
  },
  {
   "cell_type": "code",
   "execution_count": 13,
   "metadata": {},
   "outputs": [
    {
     "name": "stdout",
     "output_type": "stream",
     "text": [
      "Dictionary: {'A': 'Geeks', 'B': 'For', 'C': 'Geeks'}\n",
      "Third_value: Geeks\n"
     ]
    }
   ],
   "source": [
    "Third_value = Dictionary1.setdefault('C') \n",
    "print(\"Dictionary:\", Dictionary1) \n",
    "print(\"Third_value:\", Third_value) "
   ]
  },
  {
   "cell_type": "markdown",
   "metadata": {},
   "source": [
    "##### 2) keys() method : returns a view object that displays a list of all the keys in the dictionary."
   ]
  },
  {
   "cell_type": "code",
   "execution_count": 14,
   "metadata": {},
   "outputs": [
    {
     "name": "stdout",
     "output_type": "stream",
     "text": [
      "dict_keys(['A', 'B', 'C'])\n"
     ]
    }
   ],
   "source": [
    "Dictionary1 = {'A': 'Geeks', 'B': 'For', 'C': 'Geeks'} \n",
    "\n",
    "print(Dictionary1.keys())"
   ]
  },
  {
   "cell_type": "code",
   "execution_count": 15,
   "metadata": {},
   "outputs": [
    {
     "name": "stdout",
     "output_type": "stream",
     "text": [
      "dict_keys([])\n"
     ]
    }
   ],
   "source": [
    "#Creating empty Dictionary \n",
    "empty_Dict1 = {} \n",
    "  \n",
    "# Printing keys of Empty Dictionary \n",
    "print(empty_Dict1.keys()) "
   ]
  },
  {
   "cell_type": "markdown",
   "metadata": {},
   "source": [
    "##### 3)  items() method is used to return the list with all dictionary keys with values"
   ]
  },
  {
   "cell_type": "code",
   "execution_count": 16,
   "metadata": {},
   "outputs": [],
   "source": [
    "Dictionary1 = { 'A': 'Geeks', 'B': 4, 'C': 'Geeks' } "
   ]
  },
  {
   "cell_type": "code",
   "execution_count": 17,
   "metadata": {},
   "outputs": [
    {
     "name": "stdout",
     "output_type": "stream",
     "text": [
      "Dictionary items:\n",
      "dict_items([('A', 'Geeks'), ('B', 4), ('C', 'Geeks')])\n"
     ]
    }
   ],
   "source": [
    "print(\"Dictionary items:\") \n",
    "  \n",
    "# Printing all the items of the Dictionary \n",
    "print(Dictionary1.items()) "
   ]
  },
  {
   "cell_type": "markdown",
   "metadata": {},
   "source": [
    "##### 5) fromkeys() : returns a dictionary with keys mapped to None if no value is provided, else to the value provided in the field."
   ]
  },
  {
   "cell_type": "code",
   "execution_count": 18,
   "metadata": {},
   "outputs": [
    {
     "name": "stdout",
     "output_type": "stream",
     "text": [
      "The newly created dict with None values : {'d': None, 'c': None, 'a': None, 'b': None, 'e': None}\n",
      "The newly created dict with 1 as value : {'d': 1, 'c': 1, 'a': 1, 'b': 1, 'e': 1}\n"
     ]
    }
   ],
   "source": [
    "seq = { 'a', 'b', 'c', 'd', 'e' } \n",
    "  \n",
    "# using fromkeys() to convert sequence to dict  \n",
    "# initializing with None \n",
    "res_dict = dict.fromkeys(seq) \n",
    "  \n",
    "# Printing created dict \n",
    "print (\"The newly created dict with None values : \" + str(res_dict)) \n",
    "  \n",
    "#using fromkeys() to convert sequence to dict  \n",
    "# initializing with 1 \n",
    "res_dict2 = dict.fromkeys(seq, 1) \n",
    "  \n",
    "# Printing created dict \n",
    "print (\"The newly created dict with 1 as value : \" + str(res_dict2)) "
   ]
  },
  {
   "cell_type": "markdown",
   "metadata": {},
   "source": [
    "### Questions 3 - Set and its default functions"
   ]
  },
  {
   "cell_type": "markdown",
   "metadata": {},
   "source": [
    "##### 1) frozenset() : returns an immutable frozenset initialized with elements from the given iterable."
   ]
  },
  {
   "cell_type": "code",
   "execution_count": 19,
   "metadata": {},
   "outputs": [],
   "source": [
    "vowels = ('a', 'e', 'i', 'o', 'u')"
   ]
  },
  {
   "cell_type": "code",
   "execution_count": 20,
   "metadata": {},
   "outputs": [
    {
     "name": "stdout",
     "output_type": "stream",
     "text": [
      "The frozen set is: frozenset({'o', 'a', 'u', 'i', 'e'})\n",
      "The empty frozen set is: frozenset()\n"
     ]
    }
   ],
   "source": [
    "fSet = frozenset(vowels)\n",
    "print('The frozen set is:', fSet)\n",
    "print('The empty frozen set is:', frozenset())"
   ]
  },
  {
   "cell_type": "markdown",
   "metadata": {},
   "source": [
    "##### 2) clear() method removes all elements from the set"
   ]
  },
  {
   "cell_type": "code",
   "execution_count": 21,
   "metadata": {},
   "outputs": [],
   "source": [
    "vowels = {'a', 'e', 'i', 'o', 'u'}"
   ]
  },
  {
   "cell_type": "code",
   "execution_count": 22,
   "metadata": {},
   "outputs": [
    {
     "name": "stdout",
     "output_type": "stream",
     "text": [
      "Vowels (before clear): {'o', 'a', 'u', 'i', 'e'}\n",
      "Vowels (after clear): set()\n"
     ]
    }
   ],
   "source": [
    "print('Vowels (before clear):', vowels)\n",
    "\n",
    "# clearing vowels\n",
    "vowels.clear()\n",
    "print('Vowels (after clear):', vowels)"
   ]
  },
  {
   "cell_type": "markdown",
   "metadata": {},
   "source": [
    "##### 3) copy() method returns a shallow copy of the set.\n"
   ]
  },
  {
   "cell_type": "code",
   "execution_count": 23,
   "metadata": {},
   "outputs": [
    {
     "name": "stdout",
     "output_type": "stream",
     "text": [
      "numbers:  {1, 2, 3, 4}\n",
      "new_numbers:  {1, 2, 3, 4, 5}\n"
     ]
    }
   ],
   "source": [
    "numbers = {1, 2, 3, 4}\n",
    "new_numbers = numbers.copy()\n",
    "\n",
    "new_numbers.add(5)\n",
    "\n",
    "print('numbers: ', numbers)\n",
    "print('new_numbers: ', new_numbers)"
   ]
  },
  {
   "cell_type": "markdown",
   "metadata": {},
   "source": [
    "##### 4) difference() method returns the set difference of two sets"
   ]
  },
  {
   "cell_type": "code",
   "execution_count": 24,
   "metadata": {},
   "outputs": [
    {
     "name": "stdout",
     "output_type": "stream",
     "text": [
      "{'a', 'b', 'd'}\n",
      "{'g', 'f'}\n"
     ]
    }
   ],
   "source": [
    "A = {'a', 'b', 'c', 'd'}\n",
    "B = {'c', 'f', 'g'}\n",
    "\n",
    "# Equivalent to A-B\n",
    "print(A.difference(B))\n",
    "\n",
    "# Equivalent to B-A\n",
    "print(B.difference(A))"
   ]
  },
  {
   "cell_type": "markdown",
   "metadata": {},
   "source": [
    "##### 5) discard() method removes a specified element from the set (if present)"
   ]
  },
  {
   "cell_type": "code",
   "execution_count": 25,
   "metadata": {},
   "outputs": [
    {
     "name": "stdout",
     "output_type": "stream",
     "text": [
      "numbers =  {2, 4, 5}\n",
      "numbers =  {2, 4, 5}\n"
     ]
    }
   ],
   "source": [
    "numbers = {2, 3, 4, 5}\n",
    "\n",
    "numbers.discard(3)\n",
    "print('numbers = ', numbers)\n",
    "\n",
    "numbers.discard(10)\n",
    "print('numbers = ', numbers)"
   ]
  },
  {
   "cell_type": "markdown",
   "metadata": {},
   "source": [
    "### Questions 4 - Tuple and its  default functions"
   ]
  },
  {
   "cell_type": "markdown",
   "metadata": {},
   "source": [
    "##### 1) count() method returns the number of times the specified element appears in the tuple"
   ]
  },
  {
   "cell_type": "code",
   "execution_count": 26,
   "metadata": {},
   "outputs": [
    {
     "name": "stdout",
     "output_type": "stream",
     "text": [
      "The count of i is: 2\n",
      "The count of p is: 0\n"
     ]
    }
   ],
   "source": [
    "vowels = ('a', 'e', 'i', 'o', 'i', 'u')\n",
    "\n",
    "# count element 'i'\n",
    "count = vowels.count('i')\n",
    "\n",
    "# print count\n",
    "print('The count of i is:', count)\n",
    "\n",
    "# count element 'p'\n",
    "count = vowels.count('p')\n",
    "\n",
    "# print count\n",
    "print('The count of p is:', count)"
   ]
  },
  {
   "cell_type": "markdown",
   "metadata": {},
   "source": [
    "##### 2) index() method returns the index of the specified element in the tuple"
   ]
  },
  {
   "cell_type": "code",
   "execution_count": 27,
   "metadata": {},
   "outputs": [
    {
     "name": "stdout",
     "output_type": "stream",
     "text": [
      "The index of e: 1\n",
      "The index of i: 2\n"
     ]
    }
   ],
   "source": [
    "vowels = ('a', 'e', 'i', 'o', 'i', 'u')\n",
    "\n",
    "# index of 'e' in vowels\n",
    "index = vowels.index('e')\n",
    "print('The index of e:', index)\n",
    "\n",
    "# element 'i' is searched\n",
    "# index of the first 'i' is returned\n",
    "index = vowels.index('i')\n",
    "\n",
    "print('The index of i:', index)"
   ]
  },
  {
   "cell_type": "markdown",
   "metadata": {},
   "source": [
    "### Questions 5 - Strind and its default functions"
   ]
  },
  {
   "cell_type": "markdown",
   "metadata": {},
   "source": [
    "##### 1) capitalize() method converts first character of a string to uppercase letter and lowercases all other characters, if any"
   ]
  },
  {
   "cell_type": "code",
   "execution_count": 28,
   "metadata": {},
   "outputs": [
    {
     "name": "stdout",
     "output_type": "stream",
     "text": [
      "Old String:  python is AWesome.\n",
      "Capitalized String: Python is awesome.\n"
     ]
    }
   ],
   "source": [
    "string = \"python is AWesome.\"\n",
    "\n",
    "capitalized_string = string.capitalize()\n",
    "\n",
    "print('Old String: ', string)\n",
    "print('Capitalized String:', capitalized_string)"
   ]
  },
  {
   "cell_type": "markdown",
   "metadata": {},
   "source": [
    "##### 2) casefold() method is an aggressive lower() method which converts strings to case folded strings for caseless matching"
   ]
  },
  {
   "cell_type": "code",
   "execution_count": 29,
   "metadata": {},
   "outputs": [
    {
     "name": "stdout",
     "output_type": "stream",
     "text": [
      "Lowercase string: python is awesome\n"
     ]
    }
   ],
   "source": [
    "string = \"PYTHON IS AWESOME\"\n",
    "\n",
    "# print lowercase string\n",
    "print(\"Lowercase string:\", string.casefold())"
   ]
  },
  {
   "cell_type": "markdown",
   "metadata": {},
   "source": [
    "##### 3) encode() method returns encoded version of the given string"
   ]
  },
  {
   "cell_type": "code",
   "execution_count": 30,
   "metadata": {},
   "outputs": [
    {
     "name": "stdout",
     "output_type": "stream",
     "text": [
      "The string is: pythön!\n",
      "The encoded version is: b'pyth\\xc3\\xb6n!'\n"
     ]
    }
   ],
   "source": [
    "string = 'pythön!'\n",
    "\n",
    "# print string\n",
    "print('The string is:', string)\n",
    "\n",
    "# default encoding to utf-8\n",
    "string_utf = string.encode()\n",
    "\n",
    "# print result\n",
    "print('The encoded version is:', string_utf)"
   ]
  },
  {
   "cell_type": "markdown",
   "metadata": {},
   "source": [
    "##### 4) isalpha() method returns True if all characters in the string are alphabets. If not, it returns False"
   ]
  },
  {
   "cell_type": "code",
   "execution_count": 31,
   "metadata": {},
   "outputs": [
    {
     "name": "stdout",
     "output_type": "stream",
     "text": [
      "True\n",
      "False\n",
      "False\n"
     ]
    }
   ],
   "source": [
    "name = \"Monica\"\n",
    "print(name.isalpha())\n",
    "\n",
    "# contains whitespace\n",
    "name = \"Monica Geller\"\n",
    "print(name.isalpha())\n",
    "\n",
    "# contains number\n",
    "name = \"Mo3nicaGell22er\"\n",
    "print(name.isalpha())"
   ]
  },
  {
   "cell_type": "markdown",
   "metadata": {},
   "source": [
    "##### 5) string format() method formats the given string into a nicer output"
   ]
  },
  {
   "cell_type": "code",
   "execution_count": 32,
   "metadata": {},
   "outputs": [
    {
     "name": "stdout",
     "output_type": "stream",
     "text": [
      "Hello Adam, your balance is 230.2346.\n",
      "Hello Adam, your balance is 230.2346.\n",
      "Hello Adam, your balance is 230.2346.\n",
      "Hello Adam, your balance is 230.2346.\n"
     ]
    }
   ],
   "source": [
    "# default arguments\n",
    "print(\"Hello {}, your balance is {}.\".format(\"Adam\", 230.2346))\n",
    "\n",
    "# positional arguments\n",
    "print(\"Hello {0}, your balance is {1}.\".format(\"Adam\", 230.2346))\n",
    "\n",
    "# keyword arguments\n",
    "print(\"Hello {name}, your balance is {blc}.\".format(name=\"Adam\", blc=230.2346))\n",
    "\n",
    "# mixed arguments\n",
    "print(\"Hello {0}, your balance is {blc}.\".format(\"Adam\", blc=230.2346))"
   ]
  },
  {
   "cell_type": "code",
   "execution_count": null,
   "metadata": {},
   "outputs": [],
   "source": []
  }
 ],
 "metadata": {
  "kernelspec": {
   "display_name": "Python 3",
   "language": "python",
   "name": "python3"
  },
  "language_info": {
   "codemirror_mode": {
    "name": "ipython",
    "version": 3
   },
   "file_extension": ".py",
   "mimetype": "text/x-python",
   "name": "python",
   "nbconvert_exporter": "python",
   "pygments_lexer": "ipython3",
   "version": "3.7.6"
  }
 },
 "nbformat": 4,
 "nbformat_minor": 4
}
